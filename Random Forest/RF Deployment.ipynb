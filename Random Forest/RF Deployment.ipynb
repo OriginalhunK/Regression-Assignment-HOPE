{
 "cells": [
  {
   "cell_type": "code",
   "execution_count": 10,
   "id": "d306f92d-3856-481e-b9cb-e97e8629d221",
   "metadata": {},
   "outputs": [],
   "source": [
    "import pickle"
   ]
  },
  {
   "cell_type": "code",
   "execution_count": 14,
   "id": "70398d5a-9b5b-489f-b4a2-05153c17c78a",
   "metadata": {},
   "outputs": [
    {
     "name": "stderr",
     "output_type": "stream",
     "text": [
      "C:\\Users\\arjun\\anaconda3\\Lib\\site-packages\\sklearn\\base.py:464: UserWarning: X does not have valid feature names, but RandomForestRegressor was fitted with feature names\n",
      "  warnings.warn(\n"
     ]
    }
   ],
   "source": [
    "loaded_model = pickle.load(open(\"finalized_model_rf.sav\", 'rb'))\n",
    "result=loaded_model.predict([[18,33,1,1,0]])"
   ]
  },
  {
   "cell_type": "code",
   "execution_count": 16,
   "id": "73d4d907-3212-4a07-85ee-f84d2bfaa092",
   "metadata": {},
   "outputs": [
    {
     "data": {
      "text/plain": [
       "array([4559.54178571])"
      ]
     },
     "execution_count": 16,
     "metadata": {},
     "output_type": "execute_result"
    }
   ],
   "source": [
    "result"
   ]
  },
  {
   "cell_type": "code",
   "execution_count": null,
   "id": "c5373d35-37e3-46de-a901-598d54208233",
   "metadata": {},
   "outputs": [],
   "source": []
  }
 ],
 "metadata": {
  "kernelspec": {
   "display_name": "Python 3 (ipykernel)",
   "language": "python",
   "name": "python3"
  },
  "language_info": {
   "codemirror_mode": {
    "name": "ipython",
    "version": 3
   },
   "file_extension": ".py",
   "mimetype": "text/x-python",
   "name": "python",
   "nbconvert_exporter": "python",
   "pygments_lexer": "ipython3",
   "version": "3.11.5"
  }
 },
 "nbformat": 4,
 "nbformat_minor": 5
}
