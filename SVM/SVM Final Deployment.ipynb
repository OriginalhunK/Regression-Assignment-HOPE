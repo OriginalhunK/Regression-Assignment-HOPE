{
 "cells": [
  {
   "cell_type": "code",
   "execution_count": 12,
   "id": "b400c53c-0cac-4a8d-bf93-7c988aefa930",
   "metadata": {},
   "outputs": [],
   "source": [
    "import pickle"
   ]
  },
  {
   "cell_type": "code",
   "execution_count": 14,
   "id": "bc8496ed-c2a3-4ae8-b72c-8d062b4ad035",
   "metadata": {},
   "outputs": [],
   "source": [
    "loaded_model = pickle.load(open(\"finalized_model_svm_rbf.sav\", 'rb'))\n",
    "result = loaded_model.predict([[-1.5330973 , -0.36100765, -0.89833872, -0.97676557, -0.50466988]])"
   ]
  },
  {
   "cell_type": "code",
   "execution_count": 15,
   "id": "428cf2bf-6cf4-43d0-ba39-cfb2adada338",
   "metadata": {},
   "outputs": [
    {
     "data": {
      "text/plain": [
       "array([2214.2030894])"
      ]
     },
     "execution_count": 15,
     "metadata": {},
     "output_type": "execute_result"
    }
   ],
   "source": [
    "result"
   ]
  }
 ],
 "metadata": {
  "kernelspec": {
   "display_name": "Python 3 (ipykernel)",
   "language": "python",
   "name": "python3"
  },
  "language_info": {
   "codemirror_mode": {
    "name": "ipython",
    "version": 3
   },
   "file_extension": ".py",
   "mimetype": "text/x-python",
   "name": "python",
   "nbconvert_exporter": "python",
   "pygments_lexer": "ipython3",
   "version": "3.11.5"
  }
 },
 "nbformat": 4,
 "nbformat_minor": 5
}
